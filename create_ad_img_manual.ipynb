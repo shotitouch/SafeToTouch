{
 "cells": [
  {
   "cell_type": "code",
   "execution_count": 3,
   "id": "ca4aff75-aba0-4a3e-bb0a-35618f934858",
   "metadata": {},
   "outputs": [],
   "source": [
    "import tensorflow as tf\n",
    "import numpy as np\n",
    "import matplotlib.pyplot as plt"
   ]
  },
  {
   "cell_type": "code",
   "execution_count": 5,
   "id": "db87da51-8ae7-4e4a-b5ad-7ae3f77a37c3",
   "metadata": {},
   "outputs": [],
   "source": [
    "# Visualizations will be shown in the notebook.\n",
    "%matplotlib inline\n",
    "\n",
    "# Load pickled data\n",
    "import pickle\n",
    "import numpy as np\n",
    "from matplotlib import pyplot\n",
    "import matplotlib.pyplot as plt\n",
    "import matplotlib.gridspec as gridspec\n",
    "from pandas.io.parsers import read_csv\n",
    "\n",
    "\n",
    "## Loading datasets\n",
    "file_path = 'train.pickle'\n",
    "training_file = 'train.pickle'\n",
    "validation_file='valid.pickle'\n",
    "testing_file = 'test.pickle'\n",
    "\n",
    "with open(training_file, mode='rb') as f:\n",
    "    train = pickle.load(f)\n",
    "with open(validation_file, mode='rb') as f:\n",
    "    valid = pickle.load(f)\n",
    "with open(testing_file, mode='rb') as f:\n",
    "    test = pickle.load(f)\n",
    "\n",
    "sign_names = read_csv(\"label_names.csv\").values[:, 1]\n",
    "\n",
    "#Separating features and labels\n",
    "X_train, y_train = train['features'], train['labels']\n",
    "X_valid, y_valid = valid['features'], valid['labels']\n",
    "X_test, y_test = test['features'], test['labels']"
   ]
  },
  {
   "cell_type": "code",
   "execution_count": 7,
   "id": "e1248e57-84f2-4654-9a0f-37c96fd63ec6",
   "metadata": {},
   "outputs": [
    {
     "name": "stdout",
     "output_type": "stream",
     "text": [
      "Number of training examples = 34799\n",
      "Number of validation examples = 4410\n",
      "Number of testing examples = 12630\n",
      "Image data shape = (32, 32, 3)\n",
      "Number of classes = 43\n"
     ]
    }
   ],
   "source": [
    "# Number of training examples\n",
    "n_train = X_train.shape[0]\n",
    "# Number of validation examples\n",
    "n_validation = X_valid.shape[0]\n",
    "# Number of testing examples.\n",
    "n_test = X_test.shape[0]\n",
    "# What's the shape of an traffic sign image?\n",
    "image_shape = X_train[0].shape\n",
    "# Unique classes/labels there are in the dataset.\n",
    "classes, class_indices, class_counts  = np.unique(y_train, return_index=True, return_counts=True)\n",
    "n_classes = len(class_counts)\n",
    "\n",
    "\n",
    "print(\"Number of training examples =\", n_train)\n",
    "print(\"Number of validation examples =\", n_validation)\n",
    "print(\"Number of testing examples =\", n_test)\n",
    "print(\"Image data shape =\", image_shape)\n",
    "print(\"Number of classes =\", n_classes)"
   ]
  },
  {
   "cell_type": "code",
   "execution_count": 9,
   "id": "bf6a3685-ab26-496c-bce3-cc06320f7630",
   "metadata": {},
   "outputs": [],
   "source": [
    "from sklearn.utils import shuffle\n",
    "\n",
    "## Shuffle the dataset\n",
    "X_train, y_train = shuffle(X_train, y_train)"
   ]
  },
  {
   "cell_type": "code",
   "execution_count": 11,
   "id": "b78f72dc-f0c1-4d21-a229-1994ee4eb9da",
   "metadata": {},
   "outputs": [],
   "source": [
    "# Convert RGB images to grayscale for the training set\n",
    "X_train_gray = np.sum(X_train/3, axis=3, keepdims=True)\n",
    "\n",
    "# Convert RGB images to grayscale for the testing set\n",
    "X_test_gray  = np.sum(X_test/3, axis=3, keepdims=True)\n",
    "\n",
    "# Convert RGB images to grayscale for the validation set\n",
    "X_validation_gray  = np.sum(X_valid/3, axis=3, keepdims=True)"
   ]
  },
  {
   "cell_type": "code",
   "execution_count": 12,
   "id": "a46b79ff-d789-42e2-a657-02a16d4d10b6",
   "metadata": {},
   "outputs": [],
   "source": [
    "# Normalize the training set of grayscale images\n",
    "X_train_gray_norm = (X_train_gray - 32) / 32\n",
    "\n",
    "# Normalize the test set of grayscale images\n",
    "X_test_gray_norm = (X_test_gray - 32) / 32\n",
    "\n",
    "# Normalize the validation set of grayscale images\n",
    "X_validation_gray_norm = (X_validation_gray - 32) / 32"
   ]
  },
  {
   "cell_type": "code",
   "execution_count": 15,
   "id": "151bb1b7-4c0b-4111-ab04-13e814f31771",
   "metadata": {},
   "outputs": [],
   "source": [
    "# Onehot Encoding the labels.\n",
    "from tensorflow.keras.utils import to_categorical\n",
    "\n",
    "# Store the original labels for future reference\n",
    "y_train_unchanged = y_train\n",
    "y_validation_unchanged = y_valid\n",
    "y_test_unchanged = y_test\n",
    "\n",
    "# Perform Onehot Encoding on the labels\n",
    "# Convert the labels from integer representation to binary matrix representation\n",
    "y_train = to_categorical(y_train)\n",
    "y_validation = to_categorical(y_valid)\n",
    "y_test = to_categorical(y_test)"
   ]
  },
  {
   "cell_type": "code",
   "execution_count": 17,
   "id": "5653e3a1-8722-40b3-a0dc-bb8969f563a1",
   "metadata": {},
   "outputs": [
    {
     "name": "stderr",
     "output_type": "stream",
     "text": [
      "WARNING:absl:Compiled the loaded model, but the compiled metrics have yet to be built. `model.compile_metrics` will be empty until you train or evaluate the model.\n"
     ]
    }
   ],
   "source": [
    "model = tf.keras.models.load_model('Checkpoint_AlexNet_Epoch_50.h5')\n",
    "model.compile(loss='categorical_crossentropy', optimizer='sgd', metrics=['accuracy'])"
   ]
  },
  {
   "cell_type": "code",
   "execution_count": 19,
   "id": "8ef7516c-cfcd-4765-9091-46e79d669011",
   "metadata": {},
   "outputs": [
    {
     "name": "stdout",
     "output_type": "stream",
     "text": [
      "\u001b[1m395/395\u001b[0m \u001b[32m━━━━━━━━━━━━━━━━━━━━\u001b[0m\u001b[37m\u001b[0m \u001b[1m28s\u001b[0m 66ms/step - accuracy: 0.8762 - loss: 0.5231\n",
      "Test Loss: 0.533248782157898\n",
      "Test Accuracy: 0.8771971464157104\n"
     ]
    }
   ],
   "source": [
    "loss, accuracy = model.evaluate(X_test_gray_norm, y_test)\n",
    "print(f\"Test Loss: {loss}\")\n",
    "print(f\"Test Accuracy: {accuracy}\")"
   ]
  },
  {
   "cell_type": "code",
   "execution_count": 33,
   "id": "3b40cd48-5336-4ca2-9401-a5460b6d13b5",
   "metadata": {},
   "outputs": [
    {
     "name": "stdout",
     "output_type": "stream",
     "text": [
      "\u001b[1m395/395\u001b[0m \u001b[32m━━━━━━━━━━━━━━━━━━━━\u001b[0m\u001b[37m\u001b[0m \u001b[1m22s\u001b[0m 53ms/step\n",
      "Original prediction (before FGSM): [16  1 38 33 11 38 18 12 25 35]\n",
      "True labels: [16  1 38 33 11 38 18 12 25 35]\n",
      "\u001b[1m395/395\u001b[0m \u001b[32m━━━━━━━━━━━━━━━━━━━━\u001b[0m\u001b[37m\u001b[0m \u001b[1m21s\u001b[0m 53ms/step\n",
      "Prediction after FGSM attack: [ 7 36 38 36 11 38 18 12  2 12]\n"
     ]
    },
    {
     "data": {
      "image/png": "[encoded data removed]",
      "text/plain": [
       "<Figure size 640x480 with 1 Axes>"
      ]
     },
     "metadata": {},
     "output_type": "display_data"
    }
   ],
   "source": [
    "import tensorflow as tf\n",
    "import numpy as np\n",
    "import matplotlib.pyplot as plt\n",
    "\n",
    "# Assuming your model is loaded (replace with your actual model loading code)\n",
    "# model = tf.keras.models.load_model('your_model.h5')\n",
    "\n",
    "# Convert your X_test_gray_norm (normalized grayscale images) to a TensorFlow tensor\n",
    "x_input_all = tf.convert_to_tensor(X_test_gray_norm, dtype=tf.float32)  # Entire dataset\n",
    "y_input_all = tf.convert_to_tensor(y_test_unchanged, dtype=tf.int32)  # Corresponding labels\n",
    "\n",
    "# 1. Get the predictions before FGSM\n",
    "original_predictions = model.predict(x_input_all.numpy())\n",
    "original_classes = np.argmax(original_predictions, axis=1)\n",
    "\n",
    "print(f\"Original prediction (before FGSM): {original_classes[:10]}\")  # Display first 10 predictions\n",
    "print(f\"True labels: {y_input_all.numpy()[:10]}\")  # Display first 10 true labels\n",
    "\n",
    "# Enable GradientTape for automatic differentiation\n",
    "with tf.GradientTape() as tape:\n",
    "    tape.watch(x_input_all)  # Watch the input images for gradient computation\n",
    "    predictions = model(x_input_all)  # Forward pass to get predictions\n",
    "    loss = tf.keras.losses.sparse_categorical_crossentropy(y_input_all, predictions)  # Compute loss (cross-entropy)\n",
    "\n",
    "# Compute the gradient of the loss with respect to the input images\n",
    "gradient = tape.gradient(loss, x_input_all)\n",
    "\n",
    "# Generate the adversarial examples by applying the sign of the gradient\n",
    "epsilon = 0.1  # The perturbation magnitude (can adjust)\n",
    "adversarial_examples = x_input_all + epsilon * tf.sign(gradient)\n",
    "\n",
    "# Clip the adversarial examples to ensure they are within the valid input range\n",
    "adversarial_examples = tf.clip_by_value(adversarial_examples, 0, 1)\n",
    "\n",
    "# 2. Get the predictions on the adversarial examples\n",
    "adversarial_predictions = model.predict(adversarial_examples.numpy())\n",
    "adversarial_classes = np.argmax(adversarial_predictions, axis=1)\n",
    "\n",
    "print(f\"Prediction after FGSM attack: {adversarial_classes[:10]}\")  # Display first 10 adversarial predictions\n",
    "\n",
    "# Visualize the first adversarial example\n",
    "adversarial_example_np = adversarial_examples.numpy()\n",
    "plt.imshow(adversarial_example_np[0, :, :, 0], cmap='gray')\n",
    "plt.title(\"Adversarial Example\")\n",
    "plt.show()\n"
   ]
  },
  {
   "cell_type": "code",
   "execution_count": 35,
   "id": "082a8293-cc43-4dfb-a817-94f7b31ffcf7",
   "metadata": {},
   "outputs": [
    {
     "name": "stdout",
     "output_type": "stream",
     "text": [
      "\u001b[1m395/395\u001b[0m \u001b[32m━━━━━━━━━━━━━━━━━━━━\u001b[0m\u001b[37m\u001b[0m \u001b[1m27s\u001b[0m 64ms/step - accuracy: 0.8762 - loss: 0.5231\n",
      "Test Loss: 0.533248782157898\n",
      "Test Accuracy: 0.8771971464157104\n"
     ]
    }
   ],
   "source": [
    "loss, accuracy = model.evaluate(X_test_gray_norm, y_test)\n",
    "print(f\"Test Loss: {loss}\")\n",
    "print(f\"Test Accuracy: {accuracy}\")"
   ]
  },
  {
   "cell_type": "code",
   "execution_count": 37,
   "id": "75767e11-8fd8-4dfe-985d-ce1a0a0a5fad",
   "metadata": {},
   "outputs": [
    {
     "name": "stdout",
     "output_type": "stream",
     "text": [
      "\u001b[1m395/395\u001b[0m \u001b[32m━━━━━━━━━━━━━━━━━━━━\u001b[0m\u001b[37m\u001b[0m \u001b[1m25s\u001b[0m 63ms/step - accuracy: 0.2614 - loss: 4.0647\n",
      "Test Loss: 4.058650493621826\n",
      "Test Accuracy: 0.25787806510925293\n"
     ]
    }
   ],
   "source": [
    "loss, accuracy = model.evaluate(adversarial_examples.numpy(), y_test)\n",
    "print(f\"Test Loss: {loss}\")\n",
    "print(f\"Test Accuracy: {accuracy}\")"
   ]
  },
  {
   "cell_type": "code",
   "execution_count": 38,
   "id": "d696f805-0b34-46e0-a5d3-395c0fe11379",
   "metadata": {},
   "outputs": [
    {
     "data": {
      "text/plain": [
       "(12630, 32, 32, 1)"
      ]
     },
     "execution_count": 38,
     "metadata": {},
     "output_type": "execute_result"
    }
   ],
   "source": [
    "X_test_gray_norm.shape"
   ]
  },
  {
   "cell_type": "code",
   "execution_count": 43,
   "id": "ea3879bd-19f9-4173-9d28-1aaa12cb7821",
   "metadata": {},
   "outputs": [
    {
     "data": {
      "text/plain": [
       "(12630, 32, 32, 1)"
      ]
     },
     "execution_count": 43,
     "metadata": {},
     "output_type": "execute_result"
    }
   ],
   "source": [
    "adversarial_examples.numpy().shape"
   ]
  },
  {
   "cell_type": "code",
   "execution_count": null,
   "id": "b95bc22c-0590-4e4a-a8f6-f5d13a4471d4",
   "metadata": {},
   "outputs": [],
   "source": []
  }
 ],
 "metadata": {
  "kernelspec": {
   "display_name": "Python foolbox2",
   "language": "python",
   "name": "foolbox_evasion"
  },
  "language_info": {
   "codemirror_mode": {
    "name": "ipython",
    "version": 3
   },
   "file_extension": ".py",
   "mimetype": "text/x-python",
   "name": "python",
   "nbconvert_exporter": "python",
   "pygments_lexer": "ipython3",
   "version": "3.12.7"
  }
 },
 "nbformat": 4,
 "nbformat_minor": 5
}
